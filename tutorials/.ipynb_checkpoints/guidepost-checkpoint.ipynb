{
 "cells": [
  {
   "cell_type": "markdown",
   "id": "7ae3ccb1-820c-4308-93a6-4bb024b60c86",
   "metadata": {
    "tags": []
   },
   "source": [
    "# Guidepost Tutorial Notebook"
   ]
  },
  {
   "cell_type": "markdown",
   "id": "f2777aeb-0d62-43ee-aae8-fcf2a0033205",
   "metadata": {
    "tags": []
   },
   "source": [
    "## Provided Tutorial Datasets\n",
    "test_data_med.parquet\n"
   ]
  },
  {
   "cell_type": "markdown",
   "id": "88565e88-3eaa-426f-954d-2f0bf30421c3",
   "metadata": {},
   "source": [
    "### 1. Import and Initialize Guidepost Along With Pandas"
   ]
  },
  {
   "cell_type": "code",
   "execution_count": 1,
   "id": "68d960eb-d598-4403-911d-b6beeeb11b54",
   "metadata": {
    "tags": []
   },
   "outputs": [
    {
     "name": "stdout",
     "output_type": "stream",
     "text": [
      "env: ANYWIDGET_HMR=1\n"
     ]
    }
   ],
   "source": [
    "# import pandas as pd\n",
    "# from guidepost import Guidepost\n",
    "# %env ANYWIDGET_HMR=1\n",
    "\n",
    "# gp = Guidepost()"
   ]
  },
  {
   "cell_type": "code",
   "execution_count": 67,
   "id": "b55f7711-979c-4a60-bdd8-7c2f16377ab9",
   "metadata": {
    "tags": []
   },
   "outputs": [],
   "source": [
    "import anywidget\n",
    "import traitlets\n",
    "import pandas as pd\n",
    "import json\n",
    "import os\n",
    "\n",
    "class Guidepost(anywidget.AnyWidget):\n",
    "    _esm = os.path.join(\"../guidepost/guidepost.js\")\n",
    "    vis_data = traitlets.Dict({}).tag(sync=True)\n",
    "    vis_configs = traitlets.Dict({\n",
    "        'x': 'submit_time',\n",
    "        'y': 'queue_wait',\n",
    "        'color': 'nodes_req',\n",
    "        'color_agg': 'avg',\n",
    "        'categorical': 'user'}).tag(sync=True)\n",
    "    selected_records = traitlets.Unicode(\"[]\").tag(sync=True)\n",
    "    records_df = pd.DataFrame()\n",
    "\n",
    "    def retrieve_selected_data(self):\n",
    "        obj = json.loads(self.selected_records)\n",
    "        self.records_df = pd.DataFrame()\n",
    "        \n",
    "        for val in obj:\n",
    "            self.records_df = pd.concat([self.records_df, pd.DataFrame.from_records(obj[val])])\n",
    "            \n",
    "        return self.records_df\n",
    "    \n",
    "gp = Guidepost()"
   ]
  },
  {
   "cell_type": "markdown",
   "id": "a6fba38e-c5b7-4929-a651-6982b1151e20",
   "metadata": {},
   "source": [
    "### 2. Load, Validate and Specify the Columns You are Interested In\n",
    "\n",
    "Note the following:\n",
    "- Guidepost does not allow for json in a data column so be sure to remove columns with complex json string stored in them.\n",
    "- Guidepost expects that there will not be any nans in the data, so please run `.dropna()` on your dataset.\n",
    "- `.vis_data` expects a python dictonary so be sure to run to_dict() on any pandas dataframe you are passing into Guidepost.\n",
    "- Guidepost is not yet optimized for very large datasets so try to minimize the number of columns present in the data passed to the visualizaiton."
   ]
  },
  {
   "cell_type": "code",
   "execution_count": 112,
   "id": "60a3cfe1-ba45-441a-9f7c-a531e4ed8fac",
   "metadata": {
    "tags": []
   },
   "outputs": [],
   "source": [
    "jobs_data_df = pd.read_parquet(\"data/test_data_med.parquet\")\n",
    "\n",
    "gp.vis_data = jobs_data_df.dropna()[['account',\\\n",
    "                                 'accounting_qos',\\\n",
    "                                 'day_of_week',\\\n",
    "                                 'day_of_week_num',\\\n",
    "                                 'hour_of_day',\\\n",
    "                                 'hours_used',\\\n",
    "                                 'cpu_eff',\\\n",
    "                                 'job_array_id',\\\n",
    "                                 'nodes_req',\\\n",
    "                                 'partition',\\\n",
    "                                 'processors_req',\\\n",
    "                                 'processors_used',\\\n",
    "                                 'qcd',\\\n",
    "                                 'qos',\\\n",
    "                                 'queue_avg_mem',\\\n",
    "                                 'queue_depth_log',\\\n",
    "                                 'queue_avg_size',\\\n",
    "                                 'queue_wait',\\\n",
    "                                 'queue_wait_pred',\\\n",
    "                                 'start_time',\\\n",
    "                                 'submit_time',\\\n",
    "                                 'user',\\\n",
    "                                 'wallclock_req']].to_dict()"
   ]
  },
  {
   "cell_type": "markdown",
   "id": "3a3e35f7-597d-4fc2-a10c-a4369802a656",
   "metadata": {},
   "source": [
    "### 3. Configure the encoding rules for the visualization\n",
    "\n",
    "Load configurations into the `gp.vis_configs` class variable.\n",
    "\n",
    "Vis configurations must be specified as a python dictonary with the following fields:\n",
    "\n",
    "- 'x': The column name from the pandas dataframe which will be shown on the x axis. The data in the column can be integers, floats or datetimes.\n",
    "- 'y': The column name from the pandas dataframe which will be shown on the y axis of this visualization. The data in the column can be integers or floats.\n",
    "- 'color': The column name from the pandas dataframe which will determine the color of squares in the main summary view. The data in the column can be integers or floats.\n",
    "- 'color_agg': This is a specification for what aggregation is used for the color variable. It can be: 'avg', 'variance', 'std', 'sum', or 'median'\n",
    "- 'categorical': A categorical variable from the dataset. The data in the column must be a string. The visualization will show the top 7 instances of this variable."
   ]
  },
  {
   "cell_type": "code",
   "execution_count": 113,
   "id": "34d6c582-d374-46e2-b36d-ecc437db2e0e",
   "metadata": {
    "tags": []
   },
   "outputs": [],
   "source": [
    "gp.vis_configs = {\n",
    "        'x': 'queue_wait_pred',\n",
    "        'y': 'queue_wait',\n",
    "        'color': 'nodes_req',\n",
    "        'color_agg': 'avg',\n",
    "        'categorical': 'user',\n",
    "        # 'facet_by': 'partition'\n",
    "}"
   ]
  },
  {
   "cell_type": "markdown",
   "id": "cbc97803-44fc-491c-8428-c65bdf1bcce2",
   "metadata": {},
   "source": [
    "### Run the Visualization by calling the guidepost object in it's own cell: `gp`\n",
    "\n",
    "\n"
   ]
  },
  {
   "cell_type": "code",
   "execution_count": 106,
   "id": "9d622fb0-de58-4a2a-88d1-6706662712ff",
   "metadata": {
    "tags": []
   },
   "outputs": [
    {
     "data": {
      "application/vnd.jupyter.widget-view+json": {
       "model_id": "547d6af18efb42a685628c96059345ea",
       "version_major": 2,
       "version_minor": 1
      },
      "text/plain": [
       "Guidepost(selected_records='', vis_configs={'x': 'queue_wait_pred', 'y': 'queue_wait', 'color': 'nodes_req', '…"
      ]
     },
     "execution_count": 106,
     "metadata": {},
     "output_type": "execute_result"
    }
   ],
   "source": [
    "gp"
   ]
  },
  {
   "cell_type": "code",
   "execution_count": 53,
   "id": "6fda36c9-668d-461c-a8f0-d17057f7d053",
   "metadata": {
    "tags": []
   },
   "outputs": [
    {
     "data": {
      "text/html": [
       "<div>\n",
       "<style scoped>\n",
       "    .dataframe tbody tr th:only-of-type {\n",
       "        vertical-align: middle;\n",
       "    }\n",
       "\n",
       "    .dataframe tbody tr th {\n",
       "        vertical-align: top;\n",
       "    }\n",
       "\n",
       "    .dataframe thead th {\n",
       "        text-align: right;\n",
       "    }\n",
       "</style>\n",
       "<table border=\"1\" class=\"dataframe\">\n",
       "  <thead>\n",
       "    <tr style=\"text-align: right;\">\n",
       "      <th></th>\n",
       "    </tr>\n",
       "  </thead>\n",
       "  <tbody>\n",
       "  </tbody>\n",
       "</table>\n",
       "</div>"
      ],
      "text/plain": [
       "Empty DataFrame\n",
       "Columns: []\n",
       "Index: []"
      ]
     },
     "execution_count": 53,
     "metadata": {},
     "output_type": "execute_result"
    }
   ],
   "source": [
    "gp.retrieve_selected_data()"
   ]
  },
  {
   "cell_type": "code",
   "execution_count": null,
   "id": "47833632-ff5b-47fc-afc7-d674d7b3586a",
   "metadata": {},
   "outputs": [],
   "source": []
  }
 ],
 "metadata": {
  "kernelspec": {
   "display_name": "Python 3 (ipykernel)",
   "language": "python",
   "name": "python3"
  },
  "language_info": {
   "codemirror_mode": {
    "name": "ipython",
    "version": 3
   },
   "file_extension": ".py",
   "mimetype": "text/x-python",
   "name": "python",
   "nbconvert_exporter": "python",
   "pygments_lexer": "ipython3",
   "version": "3.12.3"
  }
 },
 "nbformat": 4,
 "nbformat_minor": 5
}
